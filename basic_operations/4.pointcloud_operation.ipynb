{
 "cells": [
  {
   "cell_type": "markdown",
   "metadata": {},
   "source": [
    "# 对点云将采样后对齐叠加"
   ]
  },
  {
   "cell_type": "code",
   "execution_count": 25,
   "metadata": {},
   "outputs": [],
   "source": [
    "import pykitti\n",
    "import numpy as np\n",
    "import open3d as o3d\n",
    "import matplotlib.pyplot as plt\n",
    "basedir = '../datasets'\n",
    "date = '2011_10_03'\n",
    "drive = '0027'\n",
    "dataset = pykitti.raw(basedir, date, drive)"
   ]
  },
  {
   "cell_type": "markdown",
   "metadata": {},
   "source": [
    "# 对前20帧降采样"
   ]
  },
  {
   "cell_type": "code",
   "execution_count": 26,
   "metadata": {},
   "outputs": [
    {
     "data": {
      "text/plain": [
       "(200,)"
      ]
     },
     "execution_count": 26,
     "metadata": {},
     "output_type": "execute_result"
    }
   ],
   "source": [
    "point_cloud = o3d.geometry.PointCloud()\n",
    "voxel_size = 2.0\n",
    "dataset_downsampled = []\n",
    "#num_frames = len(dataset) 总帧数\n",
    "num_frames = 200\n",
    "for idx in range(num_frames):\n",
    "    data = dataset.get_velo(idx)\n",
    "    point_cloud.points = o3d.utility.Vector3dVector(data[:, :3])\n",
    "    color = np.random.uniform(0, 1, size=3)\n",
    "    point_cloud_downsampled = point_cloud.voxel_down_sample(voxel_size)\n",
    "    point_cloud_downsampled.paint_uniform_color(color)\n",
    "    dataset_downsampled.append(point_cloud_downsampled)\n",
    "\n",
    "dataset_downsampled = np.asarray(dataset_downsampled)\n",
    "dataset_downsampled.shape\n",
    "#简单可视化验证\n",
    "#o3d.visualization.draw_geometries([dataset_downsampled[0]])\n",
    "#o3d.visualization.draw_geometries([dataset_downsampled[19]])\n",
    "\n"
   ]
  },
  {
   "cell_type": "markdown",
   "metadata": {},
   "source": [
    "# 匹配+叠加"
   ]
  },
  {
   "cell_type": "code",
   "execution_count": 27,
   "metadata": {},
   "outputs": [],
   "source": [
    "# 初始20帧点云展示（重叠，雷达自身坐标系）\n",
    "o3d.visualization.draw_geometries(dataset_downsampled)"
   ]
  },
  {
   "cell_type": "markdown",
   "metadata": {},
   "source": [
    "读取GPS信息的经纬度与高度，并转换为笛卡尔坐标系\n",
    "提取前六个值 \n",
    "\n",
    "lat: OXTS单元的纬度（度）\n",
    "\n",
    "lon: OXTS单元的经度（度）\n",
    "\n",
    "alt: OXTS单元的高度（米）\n",
    "\n",
    "roll: 横滚角（弧度），0 = 水平，正值 = 左侧抬起（-π..π）\n",
    "\n",
    "pitch: 俯仰角（弧度），0 = 水平，正值 = 前部向下（-π/2..π/2）\n",
    "\n",
    "yaw: 航向（弧度），0 = 东，正值 = 逆时针（-π..π）\n",
    "\n",
    "转换为笛卡尔坐标系：使用以下公式将相对经纬度和高度转换为XYZ坐标：\n",
    "\n",
    "X=(lon−lonref)×cos(latref)×R\n",
    "\n",
    "Y=(lat−latref)×R\n",
    "\n",
    "Z=alt−altref"
   ]
  },
  {
   "cell_type": "code",
   "execution_count": 28,
   "metadata": {},
   "outputs": [
    {
     "name": "stdout",
     "output_type": "stream",
     "text": [
      "[0.0, 0.0, 0.0, 0.042203, 0.022275, 1.0395963267949]\n",
      "[9.492670814415975, 42.094917184236635, 0.0008583068849929987, 0.041757, 0.0210905, 1.0415528267949]\n",
      "[18.985341632044896, 84.1898343232046, 0.0017166137700002082, 0.041311, 0.019906, 1.0435093267949]\n"
     ]
    }
   ],
   "source": [
    "import os\n",
    "import math\n",
    "\n",
    "def read_oxts_data(directory):\n",
    "    data_list = []\n",
    "    for filename in sorted(os.listdir(directory)):\n",
    "        file_path = os.path.join(directory, filename)\n",
    "        with open(file_path, 'r') as file:\n",
    "            line = file.readline().strip()\n",
    "            values = line.split()[:6]  \n",
    "            data_list.append([float(val) for val in values])  # 转换为float并添加到列表\n",
    "    return data_list\n",
    "\n",
    "# 使用函数读取数据\n",
    "directory = '../datasets/2011_10_03/2011_10_03_drive_0027_sync/oxts/data'  \n",
    "oxts_data = read_oxts_data(directory)\n",
    "\n",
    "Cartesian_data = []\n",
    "lat0 = oxts_data[0][0]\n",
    "lon0 = oxts_data[0][1]\n",
    "alt0 = oxts_data[0][2]\n",
    "R = 6371000 #地球半径6731公里\n",
    "for idx in range(len(oxts_data)):\n",
    "    lat = oxts_data[idx][0]\n",
    "    lon = oxts_data[idx][1]\n",
    "    alt = oxts_data[idx][2]\n",
    "    roll = oxts_data[idx][3]\n",
    "    pitch = oxts_data[idx][4]\n",
    "    yaw = oxts_data[idx][5]\n",
    "    x = (lon - lon0) * R * math.cos(lat0)\n",
    "    y = (lat - lat0) * R\n",
    "    z = (alt - alt0)\n",
    "    Cartesian_data.append([x, y, z, roll, pitch, yaw])\n",
    "\n",
    "print(Cartesian_data[0])\n",
    "print(Cartesian_data[1])\n",
    "print(Cartesian_data[2])"
   ]
  },
  {
   "cell_type": "markdown",
   "metadata": {},
   "source": [
    "将点云转换到global坐标系下"
   ]
  },
  {
   "cell_type": "code",
   "execution_count": 29,
   "metadata": {},
   "outputs": [],
   "source": [
    "import open3d as o3d\n",
    "import numpy as np\n",
    "\n",
    "def create_rotation_matrix(roll, pitch, yaw):\n",
    "    R_x = np.array([[1, 0, 0],\n",
    "                    [0, np.cos(roll), -np.sin(roll)],\n",
    "                    [0, np.sin(roll), np.cos(roll)]])\n",
    "\n",
    "    R_y = np.array([[np.cos(pitch), 0, np.sin(pitch)],\n",
    "                    [0, 1, 0],\n",
    "                    [-np.sin(pitch), 0, np.cos(pitch)]])\n",
    "\n",
    "    R_z = np.array([[np.cos(yaw), -np.sin(yaw), 0],\n",
    "                    [np.sin(yaw), np.cos(yaw), 0],\n",
    "                    [0, 0, 1]])\n",
    "\n",
    "    return np.dot(R_z, np.dot(R_y, R_x))\n",
    "\n",
    "def transform_pointcloud(point_cloud, x, y, z, roll, pitch, yaw):\n",
    "    # 创建平移矩阵\n",
    "    translation = np.array([x, y, z])\n",
    "    T = np.eye(4)\n",
    "    T[:3, 3] = translation\n",
    "\n",
    "    # 创建旋转矩阵\n",
    "    R = create_rotation_matrix(roll, pitch, yaw)\n",
    "    R_homogeneous = np.eye(4)\n",
    "    R_homogeneous[:3, :3] = R\n",
    "\n",
    "    # 组合变换矩阵\n",
    "    transformation_matrix = np.dot(T, R_homogeneous)\n",
    "\n",
    "    # 应用变换\n",
    "    point_cloud = point_cloud.transform(transformation_matrix)\n",
    "    \n",
    "    return point_cloud"
   ]
  },
  {
   "cell_type": "code",
   "execution_count": 30,
   "metadata": {},
   "outputs": [],
   "source": [
    "import open3d as o3d\n",
    "point_cloud_transformed = []\n",
    "for i in range(num_frames):\n",
    "    point_cloud = dataset_downsampled[i]\n",
    "    x, y, z = Cartesian_data[i][0], Cartesian_data[i][1], Cartesian_data[i][2]\n",
    "    roll, pitch, yaw = Cartesian_data[i][3], Cartesian_data[i][4], Cartesian_data[i][5]\n",
    "    point_cloud = transform_pointcloud(point_cloud, x, y, z, roll, pitch, yaw)\n",
    "    point_cloud_transformed.append(point_cloud)\n",
    "\n",
    "# 可视化\n",
    "o3d.visualization.draw_geometries(point_cloud_transformed)"
   ]
  }
 ],
 "metadata": {
  "kernelspec": {
   "display_name": "Python 3",
   "language": "python",
   "name": "python3"
  },
  "language_info": {
   "codemirror_mode": {
    "name": "ipython",
    "version": 3
   },
   "file_extension": ".py",
   "mimetype": "text/x-python",
   "name": "python",
   "nbconvert_exporter": "python",
   "pygments_lexer": "ipython3",
   "version": "3.8.10"
  }
 },
 "nbformat": 4,
 "nbformat_minor": 2
}
