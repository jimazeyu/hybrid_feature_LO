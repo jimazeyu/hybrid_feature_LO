{
 "cells": [
  {
   "cell_type": "code",
   "execution_count": 2,
   "metadata": {},
   "outputs": [
    {
     "name": "stdout",
     "output_type": "stream",
     "text": [
      "Jupyter environment detected. Enabling Open3D WebVisualizer.\n",
      "[Open3D INFO] WebRTC GUI backend enabled.\n",
      "[Open3D INFO] WebRTCWindowSystem: HTTP handshake server disabled.\n"
     ]
    },
    {
     "name": "stderr",
     "output_type": "stream",
     "text": [
      "INFO - 2024-03-08 14:16:14,473 - utils - Note: NumExpr detected 32 cores but \"NUMEXPR_MAX_THREADS\" not set, so enforcing safe limit of 8.\n",
      "INFO - 2024-03-08 14:16:14,473 - utils - NumExpr defaulting to 8 threads.\n"
     ]
    },
    {
     "name": "stdout",
     "output_type": "stream",
     "text": [
      "(124839, 3)\n",
      "data2= (124823, 3)\n"
     ]
    },
    {
     "ename": "NameError",
     "evalue": "name 'nearest_neighbor' is not defined",
     "output_type": "error",
     "traceback": [
      "\u001b[0;31m---------------------------------------------------------------------------\u001b[0m",
      "\u001b[0;31mNameError\u001b[0m                                 Traceback (most recent call last)",
      "Cell \u001b[0;32mIn[2], line 33\u001b[0m\n\u001b[1;32m     29\u001b[0m point_cloud2\u001b[38;5;241m.\u001b[39mpoints \u001b[38;5;241m=\u001b[39m o3d\u001b[38;5;241m.\u001b[39mutility\u001b[38;5;241m.\u001b[39mVector3dVector(data2)\n\u001b[1;32m     30\u001b[0m draw_registration_result(point_cloud1, point_cloud2)\n\u001b[0;32m---> 33\u001b[0m distances \u001b[38;5;241m=\u001b[39m \u001b[43mnearest_neighbor\u001b[49m(data1, data2)\n\u001b[1;32m     34\u001b[0m distances \u001b[38;5;241m=\u001b[39m np\u001b[38;5;241m.\u001b[39marray(distances)\n\u001b[1;32m     35\u001b[0m distances \u001b[38;5;241m=\u001b[39m distances[\u001b[38;5;241m0\u001b[39m, :]\n",
      "\u001b[0;31mNameError\u001b[0m: name 'nearest_neighbor' is not defined"
     ]
    }
   ],
   "source": [
    "import numpy as np\n",
    "import copy\n",
    "\n",
    "import open3d as o3d\n",
    "import os\n",
    "import glob\n",
    "import matplotlib.pyplot as plt\n",
    "\n",
    "def draw_registration_result(source, target):\n",
    "    source_temp = copy.deepcopy(source)\n",
    "    target_temp = copy.deepcopy(target)\n",
    "    source_temp.paint_uniform_color([1, 0.706, 0])\n",
    "    target_temp.paint_uniform_color([0, 0.651, 0.929])\n",
    "    # source_temp.transform(transformation)\n",
    "    o3d.visualization.draw_geometries([source_temp, target_temp])\n",
    "\n",
    "path1 = '../datasets/dataset/sequences/01/velodyne/000100.bin'\n",
    "path2 = '../datasets/dataset/sequences/01/trans_data/000101.bin'\n",
    "data1 = np.fromfile(path1, dtype=np.float32)\n",
    "data2 = np.fromfile(path2, dtype=np.float32)\n",
    "data1 = data1.reshape((-1, 4))\n",
    "data1 = data1[:, :3]\n",
    "data2 = data2.reshape((-1, 3))\n",
    "print(data1.shape)\n",
    "print(\"data2=\", data2.shape)\n",
    "point_cloud1 = o3d.geometry.PointCloud()\n",
    "point_cloud1.points = o3d.utility.Vector3dVector(data1)\n",
    "point_cloud2 = o3d.geometry.PointCloud()\n",
    "point_cloud2.points = o3d.utility.Vector3dVector(data2)\n",
    "draw_registration_result(point_cloud1, point_cloud2)\n",
    "\n",
    "\n",
    "distances = nearest_neighbor(data1, data2)\n",
    "distances = np.array(distances)\n",
    "distances = distances[0, :]\n",
    "\n",
    "\n",
    "score = 1-1/(1+np.exp(-15*(distances-0.15)))\n",
    "print(\"score=\", score.shape)\n",
    "colors = np.c_[score, np.zeros_like(score), np.zeros_like(score)]  # 将归一化的sequence距离转换为蓝绿色渐变颜色\n",
    "print(colors)\n",
    "print(\"colors=\",colors.shape)\n",
    "colors2 = np.c_[np.zeros_like(score), np.zeros_like(score), np.zeros_like(score)]  \n",
    "point_cloud1.colors = o3d.utility.Vector3dVector(colors)  # 设置点云颜色\n",
    "o3d.visualization.draw_geometries([point_cloud1])\n",
    "\n",
    "\n",
    "# 使用新的 bins 定义，因为 softmax_scores 的值在 0 到 1 之间\n",
    "bins = np.linspace(0, 1, 25)\n",
    "\n",
    "# 统计 softmax 分数的区间数量\n",
    "hist_softmax, bin_edges_softmax = np.histogram(score, bins=bins)\n",
    "\n",
    "# 绘制 softmax 分数的直方图\n",
    "plt.figure(figsize=(20, 6))\n",
    "plt.hist(score, bins=bins, edgecolor='black', alpha=0.7)\n",
    "plt.xlabel('Softmax Score Range')\n",
    "plt.ylabel('Count')\n",
    "plt.title('Histogram of Softmax Scores in Different Ranges')\n",
    "plt.xticks(bins)\n",
    "plt.grid(axis='y', alpha=0.75)\n",
    "plt.show()\n",
    "\n"
   ]
  }
 ],
 "metadata": {
  "kernelspec": {
   "display_name": "Python 3",
   "language": "python",
   "name": "python3"
  },
  "language_info": {
   "codemirror_mode": {
    "name": "ipython",
    "version": 3
   },
   "file_extension": ".py",
   "mimetype": "text/x-python",
   "name": "python",
   "nbconvert_exporter": "python",
   "pygments_lexer": "ipython3",
   "version": "3.8.10"
  }
 },
 "nbformat": 4,
 "nbformat_minor": 2
}
