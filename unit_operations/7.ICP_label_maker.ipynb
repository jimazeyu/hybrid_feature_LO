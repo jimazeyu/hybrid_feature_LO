{
 "cells": [
  {
   "cell_type": "markdown",
   "metadata": {},
   "source": [
    "# 利用ground truth,制作点特征的label"
   ]
  },
  {
   "cell_type": "markdown",
   "metadata": {},
   "source": [
    "移动点云数据"
   ]
  },
  {
   "cell_type": "code",
   "execution_count": 4,
   "metadata": {},
   "outputs": [
    {
     "name": "stdout",
     "output_type": "stream",
     "text": [
      "成功复制：../datasets/2011_10_03/2011_10_03_drive_0027_sync/velodyne_points/data 到 ../datasets/sequence_point/00/velodyne\n",
      "成功复制：../datasets/2011_10_03/2011_10_03_drive_0042_sync/velodyne_points/data 到 ../datasets/sequence_point/01/velodyne\n",
      "成功复制：../datasets/2011_10_03/2011_10_03_drive_0034_sync/velodyne_points/data 到 ../datasets/sequence_point/02/velodyne\n",
      "成功复制：../datasets/2011_09_30/2011_09_30_drive_0016_sync/velodyne_points/data 到 ../datasets/sequence_point/04/velodyne\n",
      "成功复制：../datasets/2011_09_30/2011_09_30_drive_0018_sync/velodyne_points/data 到 ../datasets/sequence_point/05/velodyne\n",
      "成功复制：../datasets/2011_09_30/2011_09_30_drive_0020_sync/velodyne_points/data 到 ../datasets/sequence_point/06/velodyne\n",
      "成功复制：../datasets/2011_09_30/2011_09_30_drive_0027_sync/velodyne_points/data 到 ../datasets/sequence_point/07/velodyne\n",
      "成功复制：../datasets/2011_09_30/2011_09_30_drive_0033_sync/velodyne_points/data 到 ../datasets/sequence_point/09/velodyne\n",
      "成功复制：../datasets/2011_09_30/2011_09_30_drive_0034_sync/velodyne_points/data 到 ../datasets/sequence_point/10/velodyne\n"
     ]
    }
   ],
   "source": [
    "import shutil\n",
    "import os\n",
    "\n",
    "\n",
    "with open('../datasets/paths.txt', 'r') as file:\n",
    "    lines = file.readlines()\n",
    "\n",
    "for line in lines:\n",
    "    parts = line.strip().split(' ', 1)  # 使用第一个空格来分割\n",
    "    if len(parts) == 2:  # 确保行正确分割为两部分\n",
    "        index, path = parts\n",
    "        # print(f\"序号: {index}, 路径: {path}\")\n",
    "        source_path = os.path.join(path, 'velodyne_points/data')\n",
    "        target_path = os.path.join('../datasets/sequence_point', f\"{index}\")\n",
    "        target_path = os.path.join(target_path, 'velodyne')\n",
    "        shutil.copytree(source_path, target_path)\n",
    "        print(f\"成功复制：{source_path} 到 {target_path}\")\n"
   ]
  },
  {
   "cell_type": "markdown",
   "metadata": {},
   "source": [
    "读取每个GT，将GT转换成velo to velo"
   ]
  },
  {
   "cell_type": "code",
   "execution_count": 8,
   "metadata": {},
   "outputs": [],
   "source": [
    "import numpy as np"
   ]
  },
  {
   "cell_type": "code",
   "execution_count": 9,
   "metadata": {},
   "outputs": [],
   "source": [
    "def read_calib_file(filepath):\n",
    "    calib_data = {}\n",
    "    with open(filepath, 'r') as file:\n",
    "        for line in file:\n",
    "            key, value = line.split(':', 1)\n",
    "            if key == 'R' or key == 'T':\n",
    "                calib_data[key] = value.strip()\n",
    "\n",
    "    return calib_data\n",
    "\n",
    "\n",
    "def RT_matrix_maker(calib_data):\n",
    "    if \"R\" in calib_data and \"T\" in calib_data:\n",
    "        R_values = [float(x) for x in calib_data[\"R\"].split()]\n",
    "        T_values = [float(x) for x in calib_data[\"T\"].split()]\n",
    "\n",
    "        # 构造变换矩阵\n",
    "        R_matrix = np.array(R_values).reshape(3, 3)\n",
    "        T_vector = np.array(T_values).reshape(3, 1)\n",
    "        RT_matrix = np.hstack((R_matrix, T_vector))\n",
    "        RT_matrix = np.vstack((RT_matrix, [0, 0, 0, 1]))\n",
    "\n",
    "        RT_matrix\n",
    "    else:\n",
    "        RT_matrix = None\n",
    "\n",
    "    return RT_matrix"
   ]
  },
  {
   "cell_type": "code",
   "execution_count": 20,
   "metadata": {},
   "outputs": [],
   "source": [
    "with open('../datasets/paths.txt', 'r') as file:\n",
    "    lines = file.readlines()\n",
    "\n",
    "RT_matrix = np.eye(4)\n",
    "for line in lines:\n",
    "    parts = line.strip().split(' ', 1)  # 使用第一个空格来分割\n",
    "    if len(parts) == 2:  # 确保行正确分割为两部分\n",
    "        index, path = parts\n",
    "        calib_filepath = os.path.join(os.path.dirname(path), 'calib_velo_to_cam.txt')\n",
    "        calib_data = read_calib_file(calib_filepath)\n",
    "        RT_matrix = RT_matrix_maker(calib_data)\n",
    "        RT_matrix_inv = np.linalg.inv(RT_matrix)\n",
    "        gt_filepath = os.path.join(path, '{}.txt'.format(index))\n",
    "\n",
    "    with open(gt_filepath, 'r') as f:\n",
    "        lines = f.readlines()\n",
    "\n",
    "    transformed_lines = []\n",
    "\n",
    "    for line in lines:\n",
    "        pose = line.strip().split()  # 切分每行数据\n",
    "\n",
    "        # 提取位姿变换矩阵并变为4x4\n",
    "        pose_matrix = np.eye(4)\n",
    "        \n",
    "        pose_matrix[:3, :] = np.array(pose).reshape(3, 4).astype(float)\n",
    "\n",
    "        # 旋转矩阵\n",
    "        transformed_matrix = RT_matrix_inv @ pose_matrix @ RT_matrix\n",
    "\n",
    "        # 从变换矩阵中提取变换后的位姿\n",
    "        transformed_pose = transformed_matrix[:3, :].flatten()\n",
    "        transformed_lines.append(\" \".join(map(str, transformed_pose)))\n",
    "    \n",
    "    data_matrices = []\n",
    "    for line in transformed_lines:\n",
    "        pose = line.strip().split()  # 切分每行数据\n",
    "        data_matrix = np.eye(4)\n",
    "        data_matrix[:3, :] = np.array(pose).reshape(3, 4).astype(float)\n",
    "        data_matrices.append(data_matrix)\n",
    "\n",
    "    data_matrices = np.array(data_matrices)\n",
    "    \n",
    "    T_filename = os.path.join('../datasets/sequence_point/{}'.format(index), 'T')\n",
    "    os.mkdir(T_filename)\n",
    "    for i in range(data_matrices.shape[0] - 1):\n",
    "        T = np.dot(np.linalg.inv(data_matrices[i+1]), data_matrices[i])\n",
    "        np.savetxt(os.path.join(T_filename, '{:010d}.txt'.format(i)), T)\n",
    "    #T 是从 i+1 到 i 的变换矩阵\n",
    "        \n",
    "\n",
    "\n",
    "\n",
    "        \n",
    "\n"
   ]
  }
 ],
 "metadata": {
  "kernelspec": {
   "display_name": "Python 3",
   "language": "python",
   "name": "python3"
  },
  "language_info": {
   "codemirror_mode": {
    "name": "ipython",
    "version": 3
   },
   "file_extension": ".py",
   "mimetype": "text/x-python",
   "name": "python",
   "nbconvert_exporter": "python",
   "pygments_lexer": "ipython3",
   "version": "3.8.10"
  }
 },
 "nbformat": 4,
 "nbformat_minor": 2
}
