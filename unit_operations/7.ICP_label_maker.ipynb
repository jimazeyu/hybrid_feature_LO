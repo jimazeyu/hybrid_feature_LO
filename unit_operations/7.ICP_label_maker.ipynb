{
 "cells": [
  {
   "cell_type": "markdown",
   "metadata": {},
   "source": [
    "# 利用ground truth,制作点特征的label"
   ]
  },
  {
   "cell_type": "markdown",
   "metadata": {},
   "source": [
    "移动点云数据"
   ]
  },
  {
   "cell_type": "markdown",
   "metadata": {},
   "source": [
    "读取每个GT，将GT转换成velo to velo"
   ]
  },
  {
   "cell_type": "code",
   "execution_count": 1,
   "metadata": {},
   "outputs": [
    {
     "name": "stdout",
     "output_type": "stream",
     "text": [
      "Jupyter environment detected. Enabling Open3D WebVisualizer.\n",
      "[Open3D INFO] WebRTC GUI backend enabled.\n",
      "[Open3D INFO] WebRTCWindowSystem: HTTP handshake server disabled.\n"
     ]
    },
    {
     "name": "stderr",
     "output_type": "stream",
     "text": [
      "INFO - 2024-03-09 21:14:00,608 - utils - Note: NumExpr detected 32 cores but \"NUMEXPR_MAX_THREADS\" not set, so enforcing safe limit of 8.\n",
      "INFO - 2024-03-09 21:14:00,608 - utils - NumExpr defaulting to 8 threads.\n"
     ]
    }
   ],
   "source": [
    "import numpy as np\n",
    "import open3d as o3d\n",
    "import os\n",
    "import glob\n",
    "import matplotlib.pyplot as plt"
   ]
  },
  {
   "cell_type": "code",
   "execution_count": 2,
   "metadata": {},
   "outputs": [],
   "source": [
    "def read_calib_file(filepath):\n",
    "    calib_data = {}\n",
    "    with open(filepath, 'r') as file:\n",
    "        for line in file:\n",
    "            key, value = line.split(':', 1)\n",
    "            if key == 'R' or key == 'T':\n",
    "                calib_data[key] = value.strip()\n",
    "\n",
    "    return calib_data\n",
    "\n",
    "\n",
    "def RT_matrix_maker(calib_data):\n",
    "    if \"R\" in calib_data and \"T\" in calib_data:\n",
    "        R_values = [float(x) for x in calib_data[\"R\"].split()]\n",
    "        T_values = [float(x) for x in calib_data[\"T\"].split()]\n",
    "\n",
    "        # 构造变换矩阵\n",
    "        R_matrix = np.array(R_values).reshape(3, 3)\n",
    "        T_vector = np.array(T_values).reshape(3, 1)\n",
    "        RT_matrix = np.hstack((R_matrix, T_vector))\n",
    "        RT_matrix = np.vstack((RT_matrix, [0, 0, 0, 1]))\n",
    "\n",
    "        RT_matrix\n",
    "    else:\n",
    "        RT_matrix = None\n",
    "\n",
    "    return RT_matrix"
   ]
  },
  {
   "cell_type": "code",
   "execution_count": 3,
   "metadata": {},
   "outputs": [],
   "source": [
    "def get_gt_velo(gt_path, RT_matrix):\n",
    "    RT_matrix_inv = np.linalg.inv(RT_matrix)\n",
    "    with open(gt_path, 'r') as f:\n",
    "        lines = f.readlines()\n",
    "    transformed_lines = []\n",
    "    for line in lines:\n",
    "        pose = line.strip().split()  \n",
    "        pose_matrix = np.eye(4)\n",
    "        pose_matrix[:3, :] = np.array(pose).reshape(3, 4).astype(float)\n",
    "        transformed_matrix = RT_matrix_inv @ pose_matrix @ RT_matrix\n",
    "        transformed_pose = transformed_matrix[:3, :].flatten()\n",
    "        transformed_lines.append(\" \".join(map(str, transformed_pose)))\n",
    "    gt_velo = transformed_lines\n",
    "\n",
    "    data_matrices = []  # 用于存储所有的4x4矩阵\n",
    "    for line in gt_velo:\n",
    "        pose = line.strip().split()  # 切分每行数据\n",
    "        data_matrix = np.eye(4)\n",
    "        data_matrix[:3, :] = np.array(pose).reshape(3, 4).astype(float)\n",
    "        data_matrices.append(data_matrix)\n",
    "\n",
    "    data_matrices = np.array(data_matrices)\n",
    "    return data_matrices\n"
   ]
  },
  {
   "cell_type": "code",
   "execution_count": 4,
   "metadata": {},
   "outputs": [],
   "source": [
    "# 本函数的意义是将第[x]帧变换到[x-1]帧，输出变换结果\n",
    "def get_pointcloud_trans(data_matrices, dataset, x):\n",
    "    \n",
    "    T = np.dot(np.linalg.inv(data_matrices[x-1]), data_matrices[x])\n",
    "   \n",
    "    \n",
    "    #取第x帧和第y帧的点云\n",
    "    data1 = np.fromfile(dataset[x], dtype=np.float32)\n",
    "    data1 = data1.reshape((-1, 4))\n",
    "    data1 = data1[:, :3]\n",
    "\n",
    "    data2_pre = np.hstack((data1, np.ones((data1.shape[0], 1))))\n",
    "    data2_pre = np.dot(T, data2_pre.T).T   \n",
    "    data2 = data2_pre[:, :3] / data2_pre[:, 3].reshape((-1, 1))\n",
    "\n",
    "    data_compare = np.fromfile(dataset[x-1], dtype=np.float32)\n",
    "    data_compare = data_compare.reshape((-1, 4))\n",
    "    data_compare = data_compare[:, :3]\n",
    "    \n",
    "    return data2, data_compare"
   ]
  },
  {
   "cell_type": "code",
   "execution_count": 5,
   "metadata": {},
   "outputs": [],
   "source": [
    "import numpy as np\n",
    "from sklearn.neighbors import NearestNeighbors\n",
    "def nearest_neighbor(src, dst):\n",
    "    \n",
    "    # assert src.shape == dst.shape\n",
    "    neigh = NearestNeighbors(n_neighbors=1)\n",
    "    neigh.fit(dst)\n",
    "    distances, indices = neigh.kneighbors(src, return_distance=True)\n",
    "    return distances.ravel(), indices.ravel()"
   ]
  },
  {
   "cell_type": "code",
   "execution_count": 61,
   "metadata": {},
   "outputs": [
    {
     "name": "stdout",
     "output_type": "stream",
     "text": [
      "../datasets/dataset/sequences/00\n",
      "../datasets/dataset/sequences/01\n",
      "../datasets/dataset/sequences/02\n",
      "../datasets/dataset/sequences/04\n",
      "../datasets/dataset/sequences/05\n",
      "../datasets/dataset/sequences/06\n",
      "../datasets/dataset/sequences/07\n",
      "../datasets/dataset/sequences/09\n",
      "../datasets/dataset/sequences/10\n"
     ]
    }
   ],
   "source": [
    "# 用来生成label的，测试时不要运行\n",
    "data_list = ['00','01','02','04','05','06','07','09','10']\n",
    "path = '../datasets/dataset/sequences/'\n",
    "\n",
    "for idx in data_list:\n",
    "    if idx in ['00', '01', '02']:\n",
    "        path_calib = '../datasets/2011_10_03/calib_velo_to_cam.txt'\n",
    "    else:\n",
    "        path_calib = '../datasets/2011_09_30/calib_velo_to_cam.txt'\n",
    "    path_data = os.path.join(path, idx)        \n",
    "    velo_path = os.path.join(path_data, 'velodyne')\n",
    "    gt_path = os.path.join(path_data, \"{}.txt\".format(idx))\n",
    "    label_path = os.path.join(path_data, 'labels')\n",
    "    if not os.path.exists(label_path):\n",
    "        os.makedirs(label_path)\n",
    "    dataset = sorted(glob.glob(os.path.join(velo_path, '*.bin')))\n",
    "    \n",
    "    print(path_data)\n",
    "\n",
    "    #测试用\n",
    "    trans_data_path = os.path.join(path_data, 'trans_data')\n",
    "    if not os.path.exists(trans_data_path):\n",
    "        os.makedirs(trans_data_path)\n",
    "\n",
    "    calib_data = read_calib_file(path_calib) \n",
    "    RT_matrix = RT_matrix_maker(calib_data)\n",
    "    data_matrices = get_gt_velo(gt_path, RT_matrix)\n",
    "\n",
    "\n",
    "    file0_name = \"000000.label\" #第0帧为空文件，因为无法向前映射\n",
    "    empty_array = np.array([])\n",
    "    empty_array.tofile(os.path.join(label_path, file0_name))\n",
    "    np.savetxt(os.path.join(label_path, file0_name), empty_array)\n",
    "    for i in range(1,len(dataset)):\n",
    "        data_trans, data_compare = get_pointcloud_trans(data_matrices, dataset, i)\n",
    "        data_trans = data_trans.astype(np.float32)\n",
    "        # 保存变换结果，用于测试转换是否正确\n",
    "        # data_trans.tofile(os.path.join(trans_data_path, '{:06d}.bin'.format(i)))\n",
    "\n",
    "        #distance to score\n",
    "        distances = nearest_neighbor(data_trans, data_compare)\n",
    "        distances = np.array(distances)\n",
    "        distances = distances[0, :]\n",
    "        # print(distances)\n",
    "        score = 1-1/(1+np.exp(-15*(distances-0.15)))\n",
    "        score = score.astype(np.float32)\n",
    "        \n",
    "        score.tofile(os.path.join(label_path, '{:06d}.label'.format(i)))\n"
   ]
  },
  {
   "cell_type": "code",
   "execution_count": 28,
   "metadata": {},
   "outputs": [
    {
     "name": "stdout",
     "output_type": "stream",
     "text": [
      "(124839, 3)\n",
      "data2= (124823, 3)\n",
      "score= (124839,)\n",
      "[[4.94847218e-01 0.00000000e+00 5.05152782e-01]\n",
      " [6.65786780e-01 0.00000000e+00 3.34213220e-01]\n",
      " [7.52562657e-01 0.00000000e+00 2.47437343e-01]\n",
      " ...\n",
      " [2.78276344e-06 0.00000000e+00 9.99997217e-01]\n",
      " [2.46601604e-06 0.00000000e+00 9.99997534e-01]\n",
      " [1.86233997e-06 0.00000000e+00 9.99998138e-01]]\n",
      "colors= (124839, 3)\n"
     ]
    },
    {
     "data": {
      "image/png": "[encoded data removed]",
      "text/plain": [
       "<Figure size 2000x600 with 1 Axes>"
      ]
     },
     "metadata": {},
     "output_type": "display_data"
    }
   ],
   "source": [
    "import numpy as np\n",
    "import copy\n",
    "\n",
    "def draw_registration_result(source, target):\n",
    "    source_temp = copy.deepcopy(source)\n",
    "    target_temp = copy.deepcopy(target)\n",
    "    source_temp.paint_uniform_color([1, 0.706, 0])\n",
    "    target_temp.paint_uniform_color([0, 0.651, 0.929])\n",
    "    # source_temp.transform(transformation)\n",
    "    o3d.visualization.draw_geometries([source_temp, target_temp])\n",
    "\n",
    "path1 = '../datasets/dataset/sequences/01/velodyne/000100.bin'\n",
    "path2 = '../datasets/dataset/sequences/01/trans_data/000101.bin'\n",
    "data1 = np.fromfile(path1, dtype=np.float32)\n",
    "data2 = np.fromfile(path2, dtype=np.float32)\n",
    "data1 = data1.reshape((-1, 4))\n",
    "data1 = data1[:, :3]\n",
    "data2 = data2.reshape((-1, 3))\n",
    "print(data1.shape)\n",
    "print(\"data2=\", data2.shape)\n",
    "point_cloud1 = o3d.geometry.PointCloud()\n",
    "point_cloud1.points = o3d.utility.Vector3dVector(data1)\n",
    "point_cloud2 = o3d.geometry.PointCloud()\n",
    "point_cloud2.points = o3d.utility.Vector3dVector(data2)\n",
    "# draw_registration_result(point_cloud1, point_cloud2) #两帧点云的匹配效果\n",
    "\n",
    "\n",
    "distances = nearest_neighbor(data1, data2)\n",
    "distances = np.array(distances)\n",
    "distances = distances[0, :]\n",
    "\n",
    "\n",
    "score = 1-1/(1+np.exp(-15*(distances-0.15)))\n",
    "print(\"score=\", score.shape)\n",
    "colors = np.c_[score, np.zeros_like(score), 1-score] \n",
    "colors_temp = np.c_[score, score, score]\n",
    "print(colors)\n",
    "print(\"colors=\",colors.shape)\n",
    " \n",
    "point_cloud1.colors = o3d.utility.Vector3dVector(colors)  # 设置点云颜色\n",
    "o3d.visualization.draw_geometries([point_cloud1]) \n",
    "\n",
    "#滤除地面点点云\n",
    "colors_filtered = colors.copy()\n",
    "for i in range(len(data1)):\n",
    "    if data1[i, 2] < -1.6:\n",
    "        colors_filtered[i] = [1, 1, 1]\n",
    "point_cloud1_filtered = o3d.geometry.PointCloud()\n",
    "point_cloud1_filtered.points = o3d.utility.Vector3dVector(data1)\n",
    "point_cloud1_filtered.colors = o3d.utility.Vector3dVector(colors_filtered)\n",
    "o3d.visualization.draw_geometries([point_cloud1_filtered])\n",
    "\n",
    "# 使用新的 bins 定义，因为 softmax_scores 的值在 0 到 1 之间\n",
    "bins = np.linspace(0, 1, 25)\n",
    "\n",
    "# 统计 softmax 分数的区间数量\n",
    "hist_softmax, bin_edges_softmax = np.histogram(score, bins=bins)\n",
    "\n",
    "# 绘制 softmax 分数的直方图\n",
    "plt.figure(figsize=(20, 6))\n",
    "plt.hist(score, bins=bins, edgecolor='black', alpha=0.7)\n",
    "plt.xlabel('Softmax Score Range')\n",
    "plt.ylabel('Count')\n",
    "plt.title('Histogram of Softmax Scores in Different Ranges')\n",
    "plt.xticks(bins)\n",
    "plt.grid(axis='y', alpha=0.75)\n",
    "plt.show()\n",
    "\n"
   ]
  },
  {
   "cell_type": "code",
   "execution_count": 13,
   "metadata": {
    "tags": [
     "parameters"
    ]
   },
   "outputs": [
    {
     "name": "stdout",
     "output_type": "stream",
     "text": [
      "(374469,)\n",
      "(499292,)\n",
      "(124823, 3)\n",
      "softmax_scores_shape= (124823,)\n",
      "softmax_scores_dtype= float64\n"
     ]
    },
    {
     "data": {
      "image/png": "[encoded data removed]",
      "text/plain": [
       "<Figure size 1000x600 with 1 Axes>"
      ]
     },
     "metadata": {},
     "output_type": "display_data"
    },
    {
     "name": "stdout",
     "output_type": "stream",
     "text": [
      "src= (124823, 3)\n"
     ]
    }
   ],
   "source": [
    "# 测试\n",
    "import numpy as np\n",
    "import matplotlib.pyplot as plt\n",
    "import open3d as o3d\n",
    "source_path = '../datasets/dataset/sequences/01/labels/000101.label'\n",
    "target_path = '../datasets/dataset/sequences/01/velodyne/000101.bin'\n",
    "src = np.fromfile(source_path, dtype=np.float32)\n",
    "print(src.shape)\n",
    "# src = src.reshape((-1, 3))\n",
    "# print(src.shape)\n",
    "dst = np.fromfile(target_path, dtype=np.float32)\n",
    "print(dst.shape)\n",
    "dst = dst.reshape((-1, 4))\n",
    "dst = dst[:, :3]\n",
    "print(dst.shape)\n",
    "\n",
    "# point_cloud1 = o3d.geometry.PointCloud()\n",
    "# point_cloud2 = o3d.geometry.PointCloud()\n",
    "# point_cloud1.points = o3d.utility.Vector3dVector(src)\n",
    "# point_cloud2.points = o3d.utility.Vector3dVector(dst)\n",
    "\n",
    "# point_cloud1.paint_uniform_color([1, 0.706, 0])\n",
    "# point_cloud2.paint_uniform_color([0, 0.651, 0.929])\n",
    "# o3d.visualization.draw_geometries([point_cloud1, point_cloud2],\n",
    "#                                       zoom=0.4459,\n",
    "#                                       front=[0.9288, -0.2951, -0.2242],\n",
    "#                                       lookat=[1.6784, 2.0612, 1.4451],\n",
    "#                                       up=[-0.3402, -0.9189, -0.1996])\n",
    "\n",
    "distances = nearest_neighbor(src, dst)\n",
    "distances = np.array(distances)\n",
    "distances = distances[0, :]\n",
    "softmax_scores = np.exp(-distances) \n",
    "print(\"softmax_scores_shape=\",softmax_scores.shape)\n",
    "print(\"softmax_scores_dtype=\", softmax_scores.dtype)\n",
    "\n",
    "\n",
    "# 使用新的 bins 定义，因为 softmax_scores 的值在 0 到 1 之间\n",
    "bins_softmax = np.linspace(0, 1, 25)\n",
    "\n",
    "# 统计 softmax 分数的区间数量\n",
    "hist_softmax, bin_edges_softmax = np.histogram(softmax_scores, bins=bins_softmax)\n",
    "\n",
    "# 绘制 softmax 分数的直方图\n",
    "plt.figure(figsize=(10, 6))\n",
    "plt.hist(softmax_scores, bins=bins_softmax, edgecolor='black', alpha=0.7)\n",
    "plt.xlabel('Softmax Score Range')\n",
    "plt.ylabel('Count')\n",
    "plt.title('Histogram of Softmax Scores in Different Ranges')\n",
    "plt.xticks(bins_softmax)\n",
    "plt.grid(axis='y', alpha=0.75)\n",
    "plt.show()\n",
    "\n",
    "\n",
    "colors = np.c_[softmax_scores, np.zeros_like(softmax_scores), 1-softmax_scores]  # 将归一化的sequence距离转换为蓝绿色渐变颜色\n",
    "\n",
    "# 创建点云对象\n",
    "point_cloud_src = o3d.geometry.PointCloud()\n",
    "point_cloud_src.points = o3d.utility.Vector3dVector(src)\n",
    "point_cloud_src.colors = o3d.utility.Vector3dVector(colors)  # 设置点云颜色\n",
    "\n",
    "print(\"src=\",src.shape)\n",
    "# print(\"colors=\",colors.shape)\n",
    "\n",
    "# 可视化\n",
    "o3d.visualization.draw_geometries([point_cloud_src])\n",
    "\n",
    "point_cloud1 = o3d.geometry.PointCloud()\n",
    "point_cloud2 = o3d.geometry.PointCloud()\n",
    "point_cloud1.points = o3d.utility.Vector3dVector(src)\n",
    "point_cloud2.points = o3d.utility.Vector3dVector(dst)\n",
    "point_cloud1.paint_uniform_color([1, 0.706, 0])\n",
    "point_cloud2.paint_uniform_color([0, 0.651, 0.929])\n",
    "o3d.visualization.draw_geometries([point_cloud1, point_cloud2],\n",
    "                                      zoom=0.4459,\n",
    "                                      front=[0.9288, -0.2951, -0.2242],\n",
    "                                      lookat=[1.6784, 2.0612, 1.4451],\n",
    "                                      up=[-0.3402, -0.9189, -0.1996])\n"
   ]
  },
  {
   "cell_type": "code",
   "execution_count": null,
   "metadata": {},
   "outputs": [
    {
     "name": "stdout",
     "output_type": "stream",
     "text": [
      "../datasets/sequences/00/labels\n",
      "../datasets/sequences/01/labels\n",
      "../datasets/sequences/02/labels\n",
      "../datasets/sequences/04/labels\n",
      "../datasets/sequences/05/labels\n",
      "../datasets/sequences/06/labels\n",
      "../datasets/sequences/07/labels\n",
      "../datasets/sequences/09/labels\n",
      "../datasets/sequences/10/labels\n"
     ]
    }
   ],
   "source": [
    "import numpy as np\n",
    "from sklearn.neighbors import NearestNeighbors\n",
    "import os\n",
    "import glob\n",
    "\n",
    "\n",
    "def nearest_neighbor(src, dst):\n",
    "    \n",
    "    # assert src.shape == dst.shape\n",
    "    neigh = NearestNeighbors(n_neighbors=1)\n",
    "    neigh.fit(dst)\n",
    "    distances, indices = neigh.kneighbors(src, return_distance=True)\n",
    "    return distances.ravel(), indices.ravel()\n",
    "\n",
    "data_list = ['00','01','02','04','05','06','07','09','10']\n",
    "path = '../datasets/sequences/'\n",
    "\n",
    "for idx in data_list:\n",
    "    path_data = os.path.join(path, idx)\n",
    "    velo_path = os.path.join(path_data, 'velodyne')\n",
    "    label_path = os.path.join(path_data, 'labels')\n",
    "    if not os.path.exists(label_path):\n",
    "        os.makedirs(label_path)\n",
    "    pre_label_path = os.path.join(path_data, 'pre_labels')\n",
    "    \n",
    "    dataset = sorted(glob.glob(os.path.join(velo_path, '*.bin')))\n",
    "    labelset = sorted(glob.glob(os.path.join(pre_label_path, '*.label')))\n",
    "    \n",
    "    print(label_path)\n",
    "\n",
    "    for i in range(1,len(dataset)):\n",
    "        src = np.fromfile(labelset[i], dtype=np.float32)\n",
    "        dst = np.fromfile(dataset[i-1], dtype=np.float32)\n",
    "        src = src.reshape((-1, 4))\n",
    "        dst = dst.reshape((-1, 4))\n",
    "        src = src[:, :3]\n",
    "        dst = dst[:, :3]\n",
    "        distances = nearest_neighbor(src, dst)\n",
    "        distances = np.array(distances)\n",
    "        distances = distances[0, :]\n",
    "        \n",
    "        # print(\"distances.shape=\", distances.shape)\n",
    "        # print(distances[:10])\n",
    "       \n",
    "        softmax_scores = np.exp(-distances) \n",
    "        softmax_scores = softmax_scores.astype(np.float32)\n",
    "        # print(\"point.shape=\", src.shape)\n",
    "        # print(\"softmax_scores=\", softmax_scores.shape)\n",
    "        \n",
    "        softmax_scores.tofile(os.path.join(label_path, '{:06d}.label'.format(i)))\n",
    "\n",
    "    \n",
    "        \n"
   ]
  },
  {
   "cell_type": "code",
   "execution_count": null,
   "metadata": {},
   "outputs": [],
   "source": []
  }
 ],
 "metadata": {
  "kernelspec": {
   "display_name": "Python 3",
   "language": "python",
   "name": "python3"
  },
  "language_info": {
   "codemirror_mode": {
    "name": "ipython",
    "version": 3
   },
   "file_extension": ".py",
   "mimetype": "text/x-python",
   "name": "python",
   "nbconvert_exporter": "python",
   "pygments_lexer": "ipython3",
   "version": "3.8.10"
  }
 },
 "nbformat": 4,
 "nbformat_minor": 2
}
