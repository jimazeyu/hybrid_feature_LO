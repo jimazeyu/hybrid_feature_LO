{
 "cells": [
  {
   "cell_type": "code",
   "execution_count": 22,
   "metadata": {},
   "outputs": [],
   "source": [
    "import pykitti\n",
    "import numpy as np\n",
    "import open3d as o3d"
   ]
  },
  {
   "cell_type": "markdown",
   "metadata": {},
   "source": [
    "# 坐标转换"
   ]
  },
  {
   "cell_type": "code",
   "execution_count": 23,
   "metadata": {},
   "outputs": [],
   "source": [
    "basedir = '../datasets'\n",
    "date = '2011_10_03'\n",
    "drive = '0027'\n",
    "dataset = pykitti.raw(basedir, date, drive)\n",
    "data = dataset.get_velo(0)\n",
    "point_cloud = o3d.geometry.PointCloud()\n",
    "point_cloud.points = o3d.utility.Vector3dVector(data[:, :3])"
   ]
  },
  {
   "cell_type": "markdown",
   "metadata": {},
   "source": [
    "绕坐标轴旋转"
   ]
  },
  {
   "cell_type": "code",
   "execution_count": 5,
   "metadata": {},
   "outputs": [],
   "source": [
    "from scipy.spatial.transform import Rotation as R\n",
    "R1 = R.from_euler('y', 90, degrees=True).as_matrix()\n",
    "R2 = R.from_euler('x', -90, degrees=True).as_matrix()\n",
    "o3d.visualization.draw_geometries([point_cloud.rotate(R1, center=point_cloud.get_center()).rotate(R2, center=point_cloud.get_center())])\n",
    "# 复合旋转\n",
    "R3 = R.from_euler('zyx', [45, 30, 60], degrees=True).as_matrix()\n",
    "o3d.visualization.draw_geometries([point_cloud.rotate(R3, center=point_cloud.get_center())])"
   ]
  },
  {
   "cell_type": "markdown",
   "metadata": {},
   "source": [
    "使用四元数、旋转向量旋转"
   ]
  },
  {
   "cell_type": "code",
   "execution_count": 6,
   "metadata": {},
   "outputs": [],
   "source": [
    "R4 = R.from_quat([0.5, 0.5, 0.5, 0.5])\n",
    "data4 = np.dot(data[:, :3], R4.as_matrix())\n",
    "point_cloud4 = o3d.geometry.PointCloud()\n",
    "point_cloud4.points = o3d.utility.Vector3dVector(data4)\n",
    "o3d.visualization.draw_geometries([point_cloud4])\n",
    "\n",
    "R5 = R.from_rotvec([0.1, 0.2, 0.3])\n",
    "data5 = np.dot(data[:, :3], R5.as_matrix())\n",
    "point_cloud5 = o3d.geometry.PointCloud()\n",
    "point_cloud5.points = o3d.utility.Vector3dVector(data5)\n",
    "o3d.visualization.draw_geometries([point_cloud5])"
   ]
  },
  {
   "cell_type": "markdown",
   "metadata": {},
   "source": [
    "# 将GT坐标 from cam to velo"
   ]
  },
  {
   "cell_type": "markdown",
   "metadata": {},
   "source": [
    "读取GT坐标、calib文件"
   ]
  },
  {
   "cell_type": "code",
   "execution_count": 7,
   "metadata": {},
   "outputs": [
    {
     "data": {
      "text/plain": [
       "array([[ 7.967514e-03, -9.999679e-01, -8.462264e-04, -1.377769e-02],\n",
       "       [-2.771053e-03,  8.241710e-04, -9.999958e-01, -5.542117e-02],\n",
       "       [ 9.999644e-01,  7.969825e-03, -2.764397e-03, -2.918589e-01],\n",
       "       [ 0.000000e+00,  0.000000e+00,  0.000000e+00,  1.000000e+00]])"
      ]
     },
     "execution_count": 7,
     "metadata": {},
     "output_type": "execute_result"
    }
   ],
   "source": [
    "def read_calib_file(filepath):\n",
    "    calib_data = {}\n",
    "    with open(filepath, 'r') as file:\n",
    "        for line in file:\n",
    "            key, value = line.split(':', 1)\n",
    "            if key == 'R' or key == 'T':\n",
    "                calib_data[key] = value.strip()\n",
    "\n",
    "    return calib_data\n",
    "\n",
    "\n",
    "filepath = '../datasets/2011_10_03/calib_velo_to_cam.txt'\n",
    "calib_data = read_calib_file(filepath)\n",
    "\n",
    "# 解析和转换 R 和 T 数据\n",
    "if \"R\" in calib_data and \"T\" in calib_data:\n",
    "    R_values = [float(x) for x in calib_data[\"R\"].split()]\n",
    "    T_values = [float(x) for x in calib_data[\"T\"].split()]\n",
    "\n",
    "    # 构造变换矩阵\n",
    "    R_matrix = np.array(R_values).reshape(3, 3)\n",
    "    T_vector = np.array(T_values).reshape(3, 1)\n",
    "    RT_matrix = np.hstack((R_matrix, T_vector))\n",
    "    RT_matrix = np.vstack((RT_matrix, [0, 0, 0, 1]))\n",
    "\n",
    "    RT_matrix\n",
    "else:\n",
    "    RT_matrix = None\n",
    "\n",
    "RT_matrix\n",
    "\n"
   ]
  },
  {
   "cell_type": "markdown",
   "metadata": {},
   "source": [
    "对GT坐标进行变换"
   ]
  },
  {
   "cell_type": "code",
   "execution_count": 8,
   "metadata": {},
   "outputs": [],
   "source": [
    "RT_matrix_inv = np.linalg.inv(RT_matrix)\n",
    "\n",
    "gt_filepath = '../datasets/2011_10_03/2011_10_03_drive_0027_sync/00.txt'\n",
    "\n",
    "# 读取轨迹数据\n",
    "with open(gt_filepath, 'r') as f:\n",
    "    lines = f.readlines()\n",
    "\n",
    "transformed_lines = []\n",
    "\n",
    "for line in lines:\n",
    "    pose = line.strip().split()  # 切分每行数据\n",
    "\n",
    "     # 提取位姿变换矩阵并变为4x4\n",
    "    pose_matrix = np.eye(4)\n",
    "    \n",
    "    pose_matrix[:3, :] = np.array(pose).reshape(3, 4).astype(float)\n",
    "\n",
    "    # 旋转矩阵\n",
    "    transformed_matrix = RT_matrix_inv @ pose_matrix @ RT_matrix\n",
    "\n",
    "    # 从变换矩阵中提取变换后的位姿\n",
    "    transformed_pose = transformed_matrix[:3, :].flatten()\n",
    "    transformed_lines.append(\" \".join(map(str, transformed_pose)))\n",
    "\n",
    "# 保存变换后的轨迹\n",
    "save_filepath = '../datasets/2011_10_03/2011_10_03_drive_0027_sync/groundtruth.txt'\n",
    "\n",
    "with open(save_filepath, 'w') as f:\n",
    "    f.write(\"\\n\".join(transformed_lines))\n"
   ]
  },
  {
   "cell_type": "code",
   "execution_count": 9,
   "metadata": {},
   "outputs": [],
   "source": [
    "import numpy as np\n",
    "import pykitti\n",
    "import open3d as o3d"
   ]
  },
  {
   "cell_type": "markdown",
   "metadata": {},
   "source": [
    "# GroundTruth cam to velo -> velo to velo"
   ]
  },
  {
   "cell_type": "code",
   "execution_count": 11,
   "metadata": {},
   "outputs": [
    {
     "name": "stdout",
     "output_type": "stream",
     "text": [
      "(4541, 4, 4)\n"
     ]
    }
   ],
   "source": [
    "# 读取groundtruth\n",
    "file_path = '../datasets/2011_10_03/2011_10_03_drive_0027_sync/groundtruth.txt'\n",
    "with open(file_path,'r') as file:\n",
    "    data = file.readlines()\n",
    "\n",
    "data_matrices = []  # 用于存储所有的4x4矩阵\n",
    "for line in data:\n",
    "    pose = line.strip().split()  # 切分每行数据\n",
    "    data_matrix = np.eye(4)\n",
    "    data_matrix[:3, :] = np.array(pose).reshape(3, 4).astype(float)\n",
    "    data_matrices.append(data_matrix)\n",
    "\n",
    "data_matrices = np.array(data_matrices)\n",
    "\n",
    "print(data_matrices.shape)\n",
    "# print(data_matrices[5])\n",
    "\n",
    "\n",
    "\n",
    "# transformation_matrix = compute_transformation_matrix(data[5], data[10])\n",
    "# print(transformation_matrix) # data[5]映射到data[10]上"
   ]
  },
  {
   "cell_type": "code",
   "execution_count": 12,
   "metadata": {},
   "outputs": [],
   "source": [
    "import copy\n",
    "# o3d可视化点云配准结果\n",
    "def draw_registration_result(source, target, transformation):\n",
    "    source_temp = copy.deepcopy(source)\n",
    "    target_temp = copy.deepcopy(target)\n",
    "    source_temp.paint_uniform_color([1, 0.706, 0])\n",
    "    target_temp.paint_uniform_color([0, 0.651, 0.929])\n",
    "    source_temp.transform(transformation)\n",
    "    o3d.visualization.draw_geometries([source_temp, target_temp],\n",
    "                                      zoom=0.4459,\n",
    "                                      front=[0.9288, -0.2951, -0.2242],\n",
    "                                      lookat=[1.6784, 2.0612, 1.4451],\n",
    "                                      up=[-0.3402, -0.9189, -0.1996])"
   ]
  },
  {
   "cell_type": "code",
   "execution_count": 13,
   "metadata": {},
   "outputs": [
    {
     "name": "stdout",
     "output_type": "stream",
     "text": [
      "[[ 9.99949417e-01  4.79809322e-03  8.84326530e-03  4.71342125e+00]\n",
      " [-4.80965672e-03  9.99987595e-01  1.28602157e-03  8.46553248e-02]\n",
      " [-8.83698657e-03 -1.32848972e-03  9.99960088e-01  4.11747342e-02]\n",
      " [ 0.00000000e+00  0.00000000e+00  0.00000000e+00  1.00000000e+00]]\n"
     ]
    }
   ],
   "source": [
    "def get_pointcloud(x,y):\n",
    "    #取第x帧和第y帧的点云\n",
    "    data1 = dataset.get_velo(x)\n",
    "    data2 = dataset.get_velo(y)\n",
    "    point_cloud1 = o3d.geometry.PointCloud()\n",
    "    data1 = data1[:, :3]\n",
    "    point_cloud1.points = o3d.utility.Vector3dVector(data1)\n",
    "    point_cloud2 = o3d.geometry.PointCloud()\n",
    "    data2 = data2[:, :3]\n",
    "    point_cloud2.points = o3d.utility.Vector3dVector(data2)\n",
    "    T = np.dot(np.linalg.inv(data_matrices[x]), data_matrices[y])\n",
    "    print(T)\n",
    "    return point_cloud1, point_cloud2, T\n",
    "\n",
    "point_cloud1, point_cloud2, T = get_pointcloud(25, 30)\n",
    "\n",
    "#变换矩阵\n",
    "draw_registration_result(point_cloud2, point_cloud1, T)"
   ]
  },
  {
   "cell_type": "code",
   "execution_count": 21,
   "metadata": {},
   "outputs": [
    {
     "name": "stdout",
     "output_type": "stream",
     "text": [
      "4541\n",
      "(4540, 4, 4)\n",
      "[[ 9.99997186e-01  2.06740258e-03  1.16075893e-03 -8.58417869e-01]\n",
      " [-2.06680528e-03  9.99997657e-01 -5.14705654e-04 -5.13599191e-02]\n",
      " [-1.16181991e-03  5.12305062e-04  9.99999187e-01 -2.47504895e-02]\n",
      " [ 0.00000000e+00  0.00000000e+00  0.00000000e+00  1.00000000e+00]]\n"
     ]
    }
   ],
   "source": [
    "# 获取真值转换的所有T\n",
    "T_all = []\n",
    "print(data_matrices.shape[0])\n",
    "for i in range(data_matrices.shape[0] - 1):\n",
    "    T = np.dot(np.linalg.inv(data_matrices[i+1]), data_matrices[i])\n",
    "    T_all.append(T)\n",
    "\n",
    "T_all = np.array(T_all)\n",
    "\n",
    "print(T_all.shape)\n",
    "print(T_all[0])"
   ]
  }
 ],
 "metadata": {
  "kernelspec": {
   "display_name": "Python 3",
   "language": "python",
   "name": "python3"
  },
  "language_info": {
   "codemirror_mode": {
    "name": "ipython",
    "version": 3
   },
   "file_extension": ".py",
   "mimetype": "text/x-python",
   "name": "python",
   "nbconvert_exporter": "python",
   "pygments_lexer": "ipython3",
   "version": "3.8.10"
  }
 },
 "nbformat": 4,
 "nbformat_minor": 2
}
