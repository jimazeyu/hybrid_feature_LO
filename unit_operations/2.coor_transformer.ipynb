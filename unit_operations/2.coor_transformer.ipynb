{
 "cells": [
  {
   "cell_type": "code",
   "execution_count": 4,
   "metadata": {},
   "outputs": [
    {
     "name": "stdout",
     "output_type": "stream",
     "text": [
      "Jupyter environment detected. Enabling Open3D WebVisualizer.\n",
      "[Open3D INFO] WebRTC GUI backend enabled.\n",
      "[Open3D INFO] WebRTCWindowSystem: HTTP handshake server disabled.\n"
     ]
    }
   ],
   "source": [
    "import pykitti\n",
    "import numpy as np\n",
    "import open3d as o3d\n",
    "import os"
   ]
  },
  {
   "cell_type": "markdown",
   "metadata": {},
   "source": [
    "# 坐标转换"
   ]
  },
  {
   "cell_type": "code",
   "execution_count": 14,
   "metadata": {},
   "outputs": [],
   "source": [
    "basedir = '../datasets'\n",
    "date = '2011_10_03'\n",
    "drive = '0027'\n",
    "dataset = pykitti.raw(basedir, date, drive)\n",
    "data = dataset.get_velo(0)\n",
    "point_cloud = o3d.geometry.PointCloud()\n",
    "point_cloud.points = o3d.utility.Vector3dVector(data[:, :3])"
   ]
  },
  {
   "cell_type": "markdown",
   "metadata": {},
   "source": [
    "绕坐标轴旋转"
   ]
  },
  {
   "cell_type": "code",
   "execution_count": 15,
   "metadata": {},
   "outputs": [],
   "source": [
    "from scipy.spatial.transform import Rotation as R\n",
    "R1 = R.from_euler('y', 90, degrees=True).as_matrix()\n",
    "R2 = R.from_euler('x', -90, degrees=True).as_matrix()\n",
    "o3d.visualization.draw_geometries([point_cloud.rotate(R1, center=point_cloud.get_center()).rotate(R2, center=point_cloud.get_center())])\n",
    "# 复合旋转\n",
    "R3 = R.from_euler('zyx', [45, 30, 60], degrees=True).as_matrix()\n",
    "o3d.visualization.draw_geometries([point_cloud.rotate(R3, center=point_cloud.get_center())])"
   ]
  },
  {
   "cell_type": "markdown",
   "metadata": {},
   "source": [
    "使用四元数、旋转向量旋转"
   ]
  },
  {
   "cell_type": "code",
   "execution_count": 16,
   "metadata": {},
   "outputs": [],
   "source": [
    "R4 = R.from_quat([0.5, 0.5, 0.5, 0.5])\n",
    "data4 = np.dot(data[:, :3], R4.as_matrix())\n",
    "point_cloud4 = o3d.geometry.PointCloud()\n",
    "point_cloud4.points = o3d.utility.Vector3dVector(data4)\n",
    "o3d.visualization.draw_geometries([point_cloud4])\n",
    "\n",
    "R5 = R.from_rotvec([0.1, 0.2, 0.3])\n",
    "data5 = np.dot(data[:, :3], R5.as_matrix())\n",
    "point_cloud5 = o3d.geometry.PointCloud()\n",
    "point_cloud5.points = o3d.utility.Vector3dVector(data5)\n",
    "o3d.visualization.draw_geometries([point_cloud5])"
   ]
  },
  {
   "cell_type": "markdown",
   "metadata": {},
   "source": [
    "# 将GT坐标 from cam to velo"
   ]
  },
  {
   "cell_type": "markdown",
   "metadata": {},
   "source": [
    "读取GT坐标、calib文件"
   ]
  },
  {
   "cell_type": "code",
   "execution_count": 5,
   "metadata": {},
   "outputs": [
    {
     "data": {
      "text/plain": [
       "array([[ 7.967514e-03, -9.999679e-01, -8.462264e-04, -1.377769e-02],\n",
       "       [-2.771053e-03,  8.241710e-04, -9.999958e-01, -5.542117e-02],\n",
       "       [ 9.999644e-01,  7.969825e-03, -2.764397e-03, -2.918589e-01],\n",
       "       [ 0.000000e+00,  0.000000e+00,  0.000000e+00,  1.000000e+00]])"
      ]
     },
     "execution_count": 5,
     "metadata": {},
     "output_type": "execute_result"
    }
   ],
   "source": [
    "def read_calib_file(filepath):\n",
    "    calib_data = {}\n",
    "    with open(filepath, 'r') as file:\n",
    "        for line in file:\n",
    "            key, value = line.split(':', 1)\n",
    "            if key == 'R' or key == 'T':\n",
    "                calib_data[key] = value.strip()\n",
    "\n",
    "    return calib_data\n",
    "\n",
    "\n",
    "filepath = '../datasets/2011_10_03/calib_velo_to_cam.txt'\n",
    "calib_data = read_calib_file(filepath)\n",
    "\n",
    "# 解析和转换 R 和 T 数据\n",
    "if \"R\" in calib_data and \"T\" in calib_data:\n",
    "    R_values = [float(x) for x in calib_data[\"R\"].split()]\n",
    "    T_values = [float(x) for x in calib_data[\"T\"].split()]\n",
    "\n",
    "    # 构造变换矩阵\n",
    "    R_matrix = np.array(R_values).reshape(3, 3)\n",
    "    T_vector = np.array(T_values).reshape(3, 1)\n",
    "    RT_matrix = np.hstack((R_matrix, T_vector))\n",
    "    RT_matrix = np.vstack((RT_matrix, [0, 0, 0, 1]))\n",
    "\n",
    "    RT_matrix\n",
    "else:\n",
    "    RT_matrix = None\n",
    "\n",
    "RT_matrix\n",
    "\n"
   ]
  },
  {
   "cell_type": "markdown",
   "metadata": {},
   "source": [
    "对GT坐标进行变换"
   ]
  },
  {
   "cell_type": "code",
   "execution_count": 6,
   "metadata": {},
   "outputs": [],
   "source": [
    "RT_matrix_inv = np.linalg.inv(RT_matrix)\n",
    "\n",
    "gt_filepath = '../datasets/dataset/sequences/01/01.txt'\n",
    "\n",
    "# 读取轨迹数据\n",
    "with open(gt_filepath, 'r') as f:\n",
    "    lines = f.readlines()\n",
    "\n",
    "transformed_lines = []\n",
    "\n",
    "for line in lines:\n",
    "    pose = line.strip().split()  # 切分每行数据\n",
    "\n",
    "     # 提取位姿变换矩阵并变为4x4\n",
    "    pose_matrix = np.eye(4)\n",
    "    \n",
    "    pose_matrix[:3, :] = np.array(pose).reshape(3, 4).astype(float)\n",
    "\n",
    "    # 旋转矩阵\n",
    "    transformed_matrix = RT_matrix_inv @ pose_matrix @ RT_matrix\n",
    "\n",
    "    # 从变换矩阵中提取变换后的位姿\n",
    "    transformed_pose = transformed_matrix[:3, :].flatten()\n",
    "    transformed_lines.append(\" \".join(map(str, transformed_pose)))\n",
    "\n",
    "# # 保存变换后的轨迹\n",
    "# save_filepath = '../datasets/2011_10_03/2011_10_03_drive_0027_sync/groundtruth.txt'\n",
    "\n",
    "# with open(save_filepath, 'w') as f:\n",
    "#     f.write(\"\\n\".join(transformed_lines))\n",
    "\n",
    "gt_velo = transformed_lines\n"
   ]
  },
  {
   "cell_type": "markdown",
   "metadata": {},
   "source": [
    "# GroundTruth cam to velo -> velo to velo"
   ]
  },
  {
   "cell_type": "code",
   "execution_count": 7,
   "metadata": {},
   "outputs": [
    {
     "name": "stdout",
     "output_type": "stream",
     "text": [
      "(1101, 4, 4)\n",
      "[[-8.02950893e-02 -9.96125830e-01 -3.58592215e-02 -1.12081194e+03]\n",
      " [ 9.95078295e-01 -8.22026129e-02  5.53340574e-02 -1.74475056e+03]\n",
      " [-5.80674270e-02 -3.12396887e-02  9.97823742e-01 -6.32368301e+01]\n",
      " [ 0.00000000e+00  0.00000000e+00  0.00000000e+00  1.00000000e+00]]\n"
     ]
    }
   ],
   "source": [
    "data_matrices = []  # 用于存储所有的4x4矩阵\n",
    "for line in gt_velo:\n",
    "    pose = line.strip().split()  # 切分每行数据\n",
    "    data_matrix = np.eye(4)\n",
    "    data_matrix[:3, :] = np.array(pose).reshape(3, 4).astype(float)\n",
    "    data_matrices.append(data_matrix)\n",
    "\n",
    "data_matrices = np.array(data_matrices)\n",
    "\n",
    "print(data_matrices.shape)\n",
    "# print(data_matrices[5])\n",
    "print(data_matrices[1000])\n"
   ]
  },
  {
   "cell_type": "code",
   "execution_count": 12,
   "metadata": {},
   "outputs": [
    {
     "name": "stdout",
     "output_type": "stream",
     "text": [
      "T= [[ 9.99985620e-01  5.33548872e-03 -4.67711300e-04  2.06886576e+00]\n",
      " [-5.33487178e-03  9.99985060e-01  1.20149023e-03  1.62797477e-02]\n",
      " [ 4.74114036e-04 -1.19897595e-03  9.99999170e-01  1.99670677e-02]\n",
      " [ 0.00000000e+00  0.00000000e+00  0.00000000e+00  1.00000000e+00]]\n",
      "data1= [[67.392395   10.18667     2.51537   ]\n",
      " [67.43925    10.411859    2.5173624 ]\n",
      " [22.748766    3.6098666   0.98960763]\n",
      " ...\n",
      " [ 3.9233012  -1.4436538  -1.7772034 ]\n",
      " [ 3.93826    -1.4366541  -1.7832102 ]\n",
      " [ 3.9672058  -1.434659   -1.7962162 ]]\n",
      "(124823, 3)\n",
      "data3= [[69.51346609  9.84629027  2.55507298]\n",
      " [69.56151808 10.07122761  2.55681766]\n",
      " [24.83610214  3.50591969  1.01603124]\n",
      " ...\n",
      " [ 5.98523919 -1.45041811 -1.7536439 ]\n",
      " [ 6.00023799 -1.4435055  -1.75965191]\n",
      " [ 6.02919998 -1.44168049 -1.77264666]]\n"
     ]
    }
   ],
   "source": [
    "import glob\n",
    "import copy\n",
    "# o3d可视化点云配准结果\n",
    "# source 变换到 target\n",
    "def draw_registration_result(source, target):\n",
    "    source_temp = copy.deepcopy(source)\n",
    "    target_temp = copy.deepcopy(target)\n",
    "    source_temp.paint_uniform_color([1, 0.706, 0])\n",
    "    target_temp.paint_uniform_color([0, 0.651, 0.929])\n",
    "    # source_temp.transform(transformation)\n",
    "    o3d.visualization.draw_geometries([source_temp, target_temp])\n",
    "                                      \n",
    "\n",
    "def draw_transformed(source, target, transformation):\n",
    "    source_temp = copy.deepcopy(source)\n",
    "    target_temp = copy.deepcopy(target)\n",
    "    source_temp.paint_uniform_color([1, 0.706, 0])\n",
    "    target_temp.paint_uniform_color([0, 0.651, 0.929])\n",
    "    source_temp.transform(transformation)\n",
    "    o3d.visualization.draw_geometries([source_temp, target_temp])\n",
    "                                      \n",
    "\n",
    "def get_pointcloud(dataset, x, y):\n",
    "    \n",
    "    #y帧相对x帧的，x*T = y\n",
    "    T = np.dot(np.linalg.inv(data_matrices[y]), data_matrices[x])\n",
    "    print(\"T=\", T)\n",
    "    \n",
    "    #取第x帧和第y帧的点云\n",
    "    data1 = np.fromfile(dataset[x], dtype=np.float32)\n",
    "    data2 = np.fromfile(dataset[y], dtype=np.float32)\n",
    "\n",
    "    point_cloud1 = o3d.geometry.PointCloud()\n",
    "    data1 = data1.reshape((-1, 4))\n",
    "    # data3 = np.dot(data1, T)\n",
    "    data1 = data1[:, :3]\n",
    "    point_cloud1.points = o3d.utility.Vector3dVector(data1)\n",
    "    print(\"data1=\", data1)\n",
    "\n",
    "    point_cloud2 = o3d.geometry.PointCloud()\n",
    "    data2 = data2.reshape((-1, 4))\n",
    "    data2 = data2[:, :3]\n",
    "    point_cloud2.points = o3d.utility.Vector3dVector(data2)\n",
    "\n",
    "    data3_pre = np.hstack((data1, np.ones((data1.shape[0], 1))))\n",
    "    # print(\"data3_1=\", data3_pre)\n",
    "    data3_pre = np.dot(T, data3_pre.T).T   #A@B\n",
    "    # print(\"data3_2=\", data3_pre)\n",
    "    data3 = data3_pre[:, :3] / data3_pre[:, 3].reshape((-1, 1))\n",
    "    # data3 = data3[:, :3]\n",
    "    print(data3.shape)\n",
    "    print(\"data3=\", data3)\n",
    "    point_cloud3 = o3d.geometry.PointCloud()\n",
    "    point_cloud3.points = o3d.utility.Vector3dVector(data3)\n",
    "\n",
    "    return point_cloud1, point_cloud2, point_cloud3, T\n",
    "\n",
    "path = '../datasets/dataset/sequences/01/velodyne'\n",
    "dataset = sorted(glob.glob(os.path.join(path, '*.bin'))) \n",
    "point_cloud1, point_cloud2, point_cloud3, T = get_pointcloud(dataset, 101, 100)\n",
    "\n",
    "#变换矩阵\n",
    "draw_registration_result(point_cloud1, point_cloud2)\n",
    "draw_registration_result(point_cloud3, point_cloud2)\n",
    "draw_transformed(point_cloud1, point_cloud2, T)\n",
    "draw_transformed(point_cloud2, point_cloud1, T)"
   ]
  },
  {
   "cell_type": "code",
   "execution_count": 24,
   "metadata": {},
   "outputs": [
    {
     "name": "stdout",
     "output_type": "stream",
     "text": [
      "4541\n",
      "(4540, 4, 4)\n",
      "[[ 9.99992348e-01  5.13960176e-05 -3.91951113e-03 -9.36013499e-01]\n",
      " [-5.75011224e-05  9.99998798e-01 -1.55737962e-03 -2.08255296e-02]\n",
      " [ 3.91942455e-03  1.55759245e-03  9.99991161e-01 -1.61882689e-02]\n",
      " [ 0.00000000e+00  0.00000000e+00  0.00000000e+00  1.00000000e+00]]\n"
     ]
    }
   ],
   "source": [
    "# 获取真值转换的所有T\n",
    "T_all = []\n",
    "print(data_matrices.shape[0])\n",
    "for i in range(data_matrices.shape[0] - 1):\n",
    "    T = np.dot(np.linalg.inv(data_matrices[i+1]), data_matrices[i])\n",
    "    T_all.append(T)\n",
    "\n",
    "T_all = np.array(T_all)\n",
    "\n",
    "print(T_all.shape)\n",
    "print(T_all[25])"
   ]
  }
 ],
 "metadata": {
  "kernelspec": {
   "display_name": "Python 3",
   "language": "python",
   "name": "python3"
  },
  "language_info": {
   "codemirror_mode": {
    "name": "ipython",
    "version": 3
   },
   "file_extension": ".py",
   "mimetype": "text/x-python",
   "name": "python",
   "nbconvert_exporter": "python",
   "pygments_lexer": "ipython3",
   "version": "3.8.10"
  }
 },
 "nbformat": 4,
 "nbformat_minor": 2
}
