{
 "cells": [
  {
   "cell_type": "code",
   "execution_count": 2,
   "metadata": {},
   "outputs": [
    {
     "name": "stdout",
     "output_type": "stream",
     "text": [
      "Jupyter environment detected. Enabling Open3D WebVisualizer.\n",
      "[Open3D INFO] WebRTC GUI backend enabled.\n",
      "[Open3D INFO] WebRTCWindowSystem: HTTP handshake server disabled.\n"
     ]
    }
   ],
   "source": [
    "import pykitti\n",
    "import numpy as np\n",
    "import open3d as o3d\n",
    "import matplotlib.pyplot as plt"
   ]
  },
  {
   "cell_type": "markdown",
   "metadata": {},
   "source": [
    "# pykitti 读取数据"
   ]
  },
  {
   "cell_type": "code",
   "execution_count": 3,
   "metadata": {},
   "outputs": [],
   "source": [
    "basedir = '../datasets'\n",
    "date = '2011_10_03'\n",
    "drive = '0027'\n",
    "dataset = pykitti.raw(basedir, date, drive)"
   ]
  },
  {
   "cell_type": "code",
   "execution_count": 3,
   "metadata": {},
   "outputs": [
    {
     "name": "stdout",
     "output_type": "stream",
     "text": [
      "origin data shape:  (124668, 4)\n",
      "PointCloud with 124668 points.\n",
      "point cloud shape:  (124668, 3)\n"
     ]
    }
   ],
   "source": [
    "# 读取第0帧点云数据\n",
    "data = dataset.get_velo(0)\n",
    "print('origin data shape: ', data.shape) # x, y, z, reflectance\n",
    "# 创建一个空的点云对象\n",
    "point_cloud = o3d.geometry.PointCloud()\n",
    "# 将 xyz 数据填充到点云中\n",
    "point_cloud.points = o3d.utility.Vector3dVector(data[:, :3])\n",
    "print(point_cloud)\n",
    "print('point cloud shape: ', np.asarray(point_cloud.points).shape)"
   ]
  },
  {
   "cell_type": "markdown",
   "metadata": {},
   "source": [
    "# 可视化"
   ]
  },
  {
   "cell_type": "code",
   "execution_count": 4,
   "metadata": {},
   "outputs": [],
   "source": [
    "# o3d可视化原始点云（适用于大点云，没有坐标）\n",
    "o3d.visualization.draw_geometries([point_cloud])"
   ]
  },
  {
   "cell_type": "code",
   "execution_count": 5,
   "metadata": {},
   "outputs": [
    {
     "name": "stdout",
     "output_type": "stream",
     "text": [
      "downsampled point cloud shape:  (1616, 3)\n"
     ]
    }
   ],
   "source": [
    "# 进行体素下采样\n",
    "voxel_size = 2.0  # 体素大小，根据需要调整\n",
    "downsampled_point_cloud = point_cloud.voxel_down_sample(voxel_size)\n",
    "print('downsampled point cloud shape: ', np.asarray(downsampled_point_cloud.points).shape)\n",
    "# 可视化降采样后的点云\n",
    "o3d.visualization.draw_geometries([downsampled_point_cloud])"
   ]
  },
  {
   "cell_type": "code",
   "execution_count": null,
   "metadata": {},
   "outputs": [],
   "source": [
    "%matplotlib widget\n",
    "# matplotlib可视化原始点云（适用于小点云，有坐标）\n",
    "import matplotlib.pyplot as plt\n",
    "def draw_numpy_point_cloud(ax, pc, axes=[0, 1, 2], xlim3d=None, ylim3d=None, zlim3d=None, color='blue'):\n",
    "    ax.scatter(pc[:, axes[0]], pc[:, axes[1]], pc[:, axes[2]], s=0.5, c=color)\n",
    "    ax.set_xlabel('X')\n",
    "    ax.set_ylabel('Y')\n",
    "    ax.set_zlabel('Z')\n",
    "    if xlim3d!=None:\n",
    "        ax.set_xlim3d(xlim3d)\n",
    "    if ylim3d!=None:\n",
    "        ax.set_ylim3d(ylim3d)\n",
    "    if zlim3d!=None:\n",
    "        ax.set_zlim3d(zlim3d)\n",
    "\n",
    "downsampled_point_cloud_np = np.asarray(downsampled_point_cloud.points)\n",
    "fig = plt.figure(figsize=(8, 8))\n",
    "ax = fig.add_subplot(111, projection='3d')\n",
    "draw_numpy_point_cloud(ax, downsampled_point_cloud_np, xlim3d=[-50, 50], ylim3d=[-50, 50], zlim3d=[-10, 10])"
   ]
  }
 ],
 "metadata": {
  "kernelspec": {
   "display_name": "Python 3",
   "language": "python",
   "name": "python3"
  },
  "language_info": {
   "codemirror_mode": {
    "name": "ipython",
    "version": 3
   },
   "file_extension": ".py",
   "mimetype": "text/x-python",
   "name": "python",
   "nbconvert_exporter": "python",
   "pygments_lexer": "ipython3",
   "version": "3.8.10"
  }
 },
 "nbformat": 4,
 "nbformat_minor": 2
}
